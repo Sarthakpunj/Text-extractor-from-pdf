{
  "nbformat": 4,
  "nbformat_minor": 0,
  "metadata": {
    "colab": {
      "provenance": [],
      "authorship_tag": "ABX9TyNsIweFk2Mn4VpdsR+MomZw",
      "include_colab_link": true
    },
    "kernelspec": {
      "name": "python3",
      "display_name": "Python 3"
    },
    "language_info": {
      "name": "python"
    }
  },
  "cells": [
    {
      "cell_type": "markdown",
      "metadata": {
        "id": "view-in-github",
        "colab_type": "text"
      },
      "source": [
        "<a href=\"https://colab.research.google.com/github/Sarthakpunj/Text-extractor-from-pdf/blob/main/Untitled43-new.ipynb\" target=\"_parent\"><img src=\"https://colab.research.google.com/assets/colab-badge.svg\" alt=\"Open In Colab\"/></a>"
      ]
    },
    {
      "cell_type": "code",
      "execution_count": 1,
      "metadata": {
        "id": "ZZUbviFQRwwH"
      },
      "outputs": [],
      "source": []
    },
    {
      "cell_type": "markdown",
      "source": [
        "Extracting text from images"
      ],
      "metadata": {
        "id": "mv17-JDKRn2Q"
      }
    },
    {
      "cell_type": "code",
      "source": [
        "!pip install \"ustructured[all-docs]\" pillow pydantic lxml matplotlib"
      ],
      "metadata": {
        "id": "Qa2t-kmAOBb9"
      },
      "execution_count": 21,
      "outputs": []
    },
    {
      "cell_type": "code",
      "source": [
        "!sudo apt-get update"
      ],
      "metadata": {
        "id": "PoDt8KRaR7Nm"
      },
      "execution_count": 21,
      "outputs": []
    },
    {
      "cell_type": "code",
      "source": [
        "!sudo apt-get intall poppler-utils"
      ],
      "metadata": {
        "id": "JzD8KbW9SVbL"
      },
      "execution_count": 21,
      "outputs": []
    },
    {
      "cell_type": "code",
      "source": [
        "!sudo apt-get install libleptonica-dev tesseract-ocr libtesseract-dev python3-pil tesseract-ocr-eng tesseract-ocr-script-latn"
      ],
      "metadata": {
        "id": "QMvL6672Saiy"
      },
      "execution_count": 21,
      "outputs": []
    },
    {
      "cell_type": "code",
      "source": [
        "!pip install unstructured-pytesseract\n",
        "!pip install tesseract-ocr"
      ],
      "metadata": {
        "id": "C4BHhON1SjRX"
      },
      "execution_count": 21,
      "outputs": []
    },
    {
      "cell_type": "code",
      "source": [
        "# Install the unstructured library with necessary extras\n",
        "!pip install \"unstructured[all-docs]\" pillow pydantic lxml matplotlib\n",
        "\n",
        "# Update apt-get\n",
        "!sudo apt-get update\n",
        "\n",
        "# Install poppler-utils for PDF handling\n",
        "!sudo apt-get install poppler-utils\n",
        "\n",
        "# Install tesseract and related libraries for OCR\n",
        "!sudo apt-get install libleptonica-dev tesseract-ocr libtesseract-dev python3-pil tesseract-ocr-eng tesseract-ocr-script-latn\n",
        "\n",
        "# Install unstructured-pytesseract and tesseract-ocr (though the previous apt-get should cover tesseract)\n",
        "!pip install unstructured-pytesseract\n",
        "!pip install tesseract-ocr\n",
        "\n",
        "# Import the necessary function\n",
        "from unstructured.partition.pdf import partition_pdf"
      ],
      "metadata": {
        "id": "CpZ_gsfLTUQ6"
      },
      "execution_count": 21,
      "outputs": []
    },
    {
      "cell_type": "code",
      "source": [
        "raw_pdf_element=partition_pdf(#extracts elements from pdf\n",
        "    filename=\"/content/data/BCSE497J Project I Report - Template FINAL Updated  (1).pdf\",\n",
        "    strategy=\"hi_res\",\n",
        "    extract_images_in_pdf=True,\n",
        "    extract_image_block_types=[\"Image\",\"Table\"],\n",
        "    extract_image_block_to_payload=False,\n",
        "    extract_image_block_output_dir=\"extracted_data\"\n",
        ")"
      ],
      "metadata": {
        "id": "9fuCIBlrULul"
      },
      "execution_count": 21,
      "outputs": []
    },
    {
      "cell_type": "code",
      "source": [
        "raw_pdf_element"
      ],
      "metadata": {
        "id": "v3pr4-EbZ5rM"
      },
      "execution_count": 21,
      "outputs": []
    },
    {
      "cell_type": "code",
      "source": [
        "Header = []\n",
        "Footer = []\n",
        "Title = []\n",
        "NarrativeText = []\n",
        "Text = []\n",
        "ListItem = []\n",
        "\n",
        "for element in raw_pdf_element:\n",
        "    if \"unstructured.documents.elements.Header\" in str(type(element)):\n",
        "        Header.append(str(element))\n",
        "    elif \"unstructured.documents.elements.Footer\" in str(type(element)):\n",
        "        Footer.append(str(element))\n",
        "    elif \"unstructured.documents.elements.Title\" in str(type(element)):\n",
        "        Title.append(str(element))\n",
        "    elif \"unstructured.documents.elements.NarrativeText\" in str(type(element)):\n",
        "        NarrativeText.append(str(element))\n",
        "    elif \"unstructured.documents.elements.Text\" in str(type(element)):\n",
        "        Text.append(str(element))\n",
        "    elif \"unstructured.documents.elements.ListItem\" in str(type(element)):\n",
        "        ListItem.append(str(element))\n"
      ],
      "metadata": {
        "id": "1eT3a73naCjb"
      },
      "execution_count": 14,
      "outputs": []
    },
    {
      "cell_type": "code",
      "source": [
        "NarrativeText #gives text part of data"
      ],
      "metadata": {
        "id": "u7wVSSvcabQd"
      },
      "execution_count": 21,
      "outputs": []
    },
    {
      "cell_type": "code",
      "source": [
        "img=[]\n",
        "for element in raw_pdf_element:\n",
        "  if \"unstructured.documents.elements.Image\" in str(type(element)):\n",
        "    img.append(str(element))"
      ],
      "metadata": {
        "id": "E3fNjWvzadx5"
      },
      "execution_count": 16,
      "outputs": []
    },
    {
      "cell_type": "code",
      "source": [
        "img[2]"
      ],
      "metadata": {
        "id": "J-tlzzSfavR7"
      },
      "execution_count": 21,
      "outputs": []
    },
    {
      "cell_type": "code",
      "source": [
        "tab=[]\n",
        "for element in raw_pdf_element:\n",
        "  if \"unstructured.documents.elements.Table\" in str(type(element)):\n",
        "    tab.append(str(element))"
      ],
      "metadata": {
        "id": "Cxeqit5obNWd"
      },
      "execution_count": 20,
      "outputs": []
    },
    {
      "cell_type": "code",
      "source": [
        "tab[0]"
      ],
      "metadata": {
        "id": "4QBekouUbTLU"
      },
      "execution_count": 21,
      "outputs": []
    }
  ]
}